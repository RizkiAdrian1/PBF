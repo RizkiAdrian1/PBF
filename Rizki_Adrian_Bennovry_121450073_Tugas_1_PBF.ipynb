{
  "nbformat": 4,
  "nbformat_minor": 0,
  "metadata": {
    "colab": {
      "provenance": []
    },
    "kernelspec": {
      "name": "python3",
      "display_name": "Python 3"
    },
    "language_info": {
      "name": "python"
    }
  },
  "cells": [
    {
      "cell_type": "code",
      "execution_count": 3,
      "metadata": {
        "colab": {
          "base_uri": "https://localhost:8080/"
        },
        "id": "u1Hi7_LxyMJ8",
        "outputId": "b58879a5-47cc-46a5-b192-85a75baf7743"
      },
      "outputs": [
        {
          "output_type": "stream",
          "name": "stdout",
          "text": [
            "Masukkan Password Anda : Rizkiadrian\n",
            "Password awal Anda : Rizkiadrian\n",
            "Password terenkripsi : ST-TQ+Tb-TS+TQ+Sc-Sf-TZ-TQ+Sc-TV-\n"
          ]
        }
      ],
      "source": [
        "def encryption(password):\n",
        "    result = \"\"\n",
        "    for char in password:\n",
        "        ascii = ord(char)   #karakter diubah menjadi ASCII\n",
        "        first_value = (ascii / 26) + 80     #value 1\n",
        "        second_value = (ascii % 26) + 80    #value 2\n",
        "\n",
        "    #value 3\n",
        "        if first_value > second_value:  \n",
        "            third_value = \"+\"\n",
        "        else:\n",
        "            third_value = \"-\"\n",
        "        result += chr(int(first_value)) + chr(int(second_value)) + third_value #gabungan value 1,2, dan 3\n",
        "    return result\n",
        "\n",
        "password = input(\"Masukkan Password Anda : \")\n",
        "if len(password) > 100:\n",
        "    print(\"Maaf, Password terlalu panjang. Harap ketikkan maksimal 100 karakter.\")\n",
        "else:\n",
        "    encrypted_password = encryption(password)\n",
        "    print(\"Password awal Anda : \" + password)\n",
        "    print(\"Password terenkripsi : \" + encrypted_password)"
      ]
    }
  ]
}